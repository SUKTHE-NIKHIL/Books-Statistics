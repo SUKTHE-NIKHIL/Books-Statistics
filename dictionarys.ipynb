{
 "cells": [
  {
   "cell_type": "code",
   "execution_count": 7,
   "id": "069ca69e",
   "metadata": {},
   "outputs": [
    {
     "data": {
      "text/plain": [
       "dict_keys([1, 2, 'praja'])"
      ]
     },
     "execution_count": 7,
     "metadata": {},
     "output_type": "execute_result"
    }
   ],
   "source": [
    "sir={1:\"ragav\",\n",
    "    2:\"viru\",\n",
    "    \"praja\":\"ketha\"\n",
    "   }\n",
    "sir.keys()"
   ]
  },
  {
   "cell_type": "code",
   "execution_count": 8,
   "id": "beae76a5",
   "metadata": {
    "scrolled": true
   },
   "outputs": [
    {
     "data": {
      "text/plain": [
       "dict_values(['ragav', 'viru', 'ketha'])"
      ]
     },
     "execution_count": 8,
     "metadata": {},
     "output_type": "execute_result"
    }
   ],
   "source": [
    "sir={1:\"ragav\",\n",
    "    2:\"viru\",\n",
    "    \"praja\":\"ketha\"\n",
    "   }\n",
    "sir.values()"
   ]
  },
  {
   "cell_type": "code",
   "execution_count": 9,
   "id": "9a209539",
   "metadata": {},
   "outputs": [
    {
     "data": {
      "text/plain": [
       "dict_items([(1, 'ragav'), (2, 'viru'), ('praja', 'ketha')])"
      ]
     },
     "execution_count": 9,
     "metadata": {},
     "output_type": "execute_result"
    }
   ],
   "source": [
    "sir={1:\"ragav\",\n",
    "    2:\"viru\",\n",
    "    \"praja\":\"ketha\"\n",
    "   }\n",
    "sir.items()"
   ]
  },
  {
   "cell_type": "code",
   "execution_count": 10,
   "id": "e89c8349",
   "metadata": {},
   "outputs": [
    {
     "data": {
      "text/plain": [
       "'ragav'"
      ]
     },
     "execution_count": 10,
     "metadata": {},
     "output_type": "execute_result"
    }
   ],
   "source": [
    "sir[1]"
   ]
  },
  {
   "cell_type": "code",
   "execution_count": 12,
   "id": "49bfe11b",
   "metadata": {},
   "outputs": [
    {
     "data": {
      "text/plain": [
       "'ketha'"
      ]
     },
     "execution_count": 12,
     "metadata": {},
     "output_type": "execute_result"
    }
   ],
   "source": [
    "sir[\"praja\"]"
   ]
  },
  {
   "cell_type": "code",
   "execution_count": null,
   "id": "54a47ec9",
   "metadata": {},
   "outputs": [],
   "source": []
  }
 ],
 "metadata": {
  "kernelspec": {
   "display_name": "Python 3 (ipykernel)",
   "language": "python",
   "name": "python3"
  },
  "language_info": {
   "codemirror_mode": {
    "name": "ipython",
    "version": 3
   },
   "file_extension": ".py",
   "mimetype": "text/x-python",
   "name": "python",
   "nbconvert_exporter": "python",
   "pygments_lexer": "ipython3",
   "version": "3.10.9"
  }
 },
 "nbformat": 4,
 "nbformat_minor": 5
}
